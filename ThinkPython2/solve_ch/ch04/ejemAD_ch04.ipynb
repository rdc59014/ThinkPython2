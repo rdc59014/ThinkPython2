{
 "cells": [
  {
   "cell_type": "code",
   "execution_count": null,
   "metadata": {},
   "outputs": [],
   "source": [
    "    import turtle"
   ]
  },
  {
   "cell_type": "code",
   "execution_count": null,
   "metadata": {},
   "outputs": [],
   "source": [
    "#bob = turtle.Turtle()"
   ]
  },
  {
   "cell_type": "code",
   "execution_count": null,
   "metadata": {},
   "outputs": [],
   "source": [
    "#%run mypolygon.py"
   ]
  },
  {
   "cell_type": "code",
   "execution_count": null,
   "metadata": {},
   "outputs": [],
   "source": [
    "bob = turtle.Turtle()\n",
    "\n",
    "\n",
    "def lado(obj, value, degree):\n",
    "    obj.fd(value)\n",
    "    obj.lt(degree)\n",
    "\n",
    "for i in range(4):\n",
    "    lado(bob, 100, 90)\n",
    "\n",
    "bob.pu()\n",
    "bob.fd(200)\n",
    "bob.pd()\n",
    "\n",
    "for i in range(4):\n",
    "    lado(bob, 100, 90)\n",
    "\n",
    "turtle.mainloop()"
   ]
  },
  {
   "cell_type": "code",
   "execution_count": null,
   "metadata": {},
   "outputs": [],
   "source": [
    "import turtle  # Allows us to use turtles\n",
    "\n",
    "window = turtle.Screen()  # Creates a playground for turtles\n",
    "alex = turtle.Turtle()  # Create a turtle, assign to alex\n",
    "\n",
    "alex.forward(100)  # Tell alex to move forward by 50 units\n",
    "alex.left(90)  # Tell alex to turn by 90 degrees\n",
    "alex.forward(100)  # Complete the second side of a rectangle\n",
    "\n",
    "window.mainloop()  # Wait for user to close window"
   ]
  },
  {
   "cell_type": "code",
   "execution_count": null,
   "metadata": {},
   "outputs": [],
   "source": [
    "import turtle\n",
    "window = turtle.Screen()\n",
    "window.bgcolor(\"HotPink\")  # Set the window background color\n",
    "window.title(\"Hello, Tess!\")  # Set the window title\n",
    "\n",
    "tess = turtle.Turtle()\n",
    "tess.color(\"green\")  # Tell tess to change her color\n",
    "tess.pensize(4)  # Tell tess to set her pen width\n",
    "\n",
    "tess.forward(50)\n",
    "tess.left(92.9)\n",
    "\n",
    "tess.forward(50)\n",
    "window.mainloop()"
   ]
  },
  {
   "cell_type": "code",
   "execution_count": null,
   "metadata": {},
   "outputs": [],
   "source": [
    "%run mypolygon.py"
   ]
  },
  {
   "cell_type": "code",
   "execution_count": null,
   "metadata": {},
   "outputs": [],
   "source": []
  }
 ],
 "metadata": {
  "kernelspec": {
   "display_name": "Python 3",
   "language": "python",
   "name": "python3"
  },
  "language_info": {
   "codemirror_mode": {
    "name": "ipython",
    "version": 3
   },
   "file_extension": ".py",
   "mimetype": "text/x-python",
   "name": "python",
   "nbconvert_exporter": "python",
   "pygments_lexer": "ipython3",
   "version": "3.6.6"
  }
 },
 "nbformat": 4,
 "nbformat_minor": 2
}
